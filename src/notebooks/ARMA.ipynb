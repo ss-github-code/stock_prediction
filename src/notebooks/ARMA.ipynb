{
 "cells": [
  {
   "cell_type": "code",
   "execution_count": 1,
   "id": "38b3a008",
   "metadata": {},
   "outputs": [],
   "source": [
    "import sys\n",
    "sys.path.append('../scripts')\n",
    "\n",
    "import numpy as np\n",
    "import pandas as pd\n",
    "\n",
    "from yahoo_stock_data import YahooStockData\n",
    "from data_handler import DataHandler\n",
    "from arma import AlgoARMA"
   ]
  },
  {
   "cell_type": "code",
   "execution_count": 2,
   "id": "740f4fb1",
   "metadata": {},
   "outputs": [
    {
     "name": "stdout",
     "output_type": "stream",
     "text": [
      "[*********************100%***********************]  1 of 1 completed\n"
     ]
    }
   ],
   "source": [
    "START_DATE = '2000-01-01'\n",
    "TARGET     = 'High'\n",
    "TIMEFRAME  = -1\n",
    "LOG_RETURN = True\n",
    "TEST_SIZE  = 0.2\n",
    "\n",
    "ticker_list = ['MSFT']\n",
    "\n",
    "# si_from_yahoo = YahooStockData(ticker_list[0])\n",
    "# si_data = si_from_yahoo.get_data(START_DATE)\n",
    "# si_data.reset_index(inplace=True)\n",
    "# si_data.to_csv('msft.csv', index=False)\n",
    "si_data = pd.read_csv('msft.csv')"
   ]
  },
  {
   "cell_type": "code",
   "execution_count": 3,
   "id": "2982cb51",
   "metadata": {},
   "outputs": [],
   "source": [
    "data_handler = DataHandler(si_data, TARGET, TIMEFRAME, LOG_RETURN, TEST_SIZE)\n",
    "algo_arma = AlgoARMA(data_handler.y_train, 2, 0, 1)\n",
    "forecasts = algo_arma.get_forecasts(len(data_handler.y_val) + len(data_handler.y_test))"
   ]
  },
  {
   "cell_type": "code",
   "execution_count": 4,
   "id": "32e9b4f8",
   "metadata": {},
   "outputs": [
    {
     "name": "stdout",
     "output_type": "stream",
     "text": [
      "{'mse': 9.924436593281253, 'mae': 2.2652537642908364, 'rmse': 3.1503073807616384, 'mape': 0.010356019772027672}\n",
      "306.7258309197731\n"
     ]
    }
   ],
   "source": [
    "forecast, val_results, test_results = data_handler.process_forecasts(forecasts)\n",
    "print(test_results)\n",
    "print(forecast[-1])"
   ]
  },
  {
   "cell_type": "code",
   "execution_count": null,
   "id": "1590fc67",
   "metadata": {},
   "outputs": [],
   "source": []
  }
 ],
 "metadata": {
  "kernelspec": {
   "display_name": "Python 3 (ipykernel)",
   "language": "python",
   "name": "python3"
  },
  "language_info": {
   "codemirror_mode": {
    "name": "ipython",
    "version": 3
   },
   "file_extension": ".py",
   "mimetype": "text/x-python",
   "name": "python",
   "nbconvert_exporter": "python",
   "pygments_lexer": "ipython3",
   "version": "3.9.7"
  }
 },
 "nbformat": 4,
 "nbformat_minor": 5
}
