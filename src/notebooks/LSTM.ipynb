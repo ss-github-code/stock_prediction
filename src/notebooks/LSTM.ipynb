{
 "cells": [
  {
   "cell_type": "code",
   "execution_count": 1,
   "metadata": {},
   "outputs": [],
   "source": [
    "import sys\n",
    "sys.path.append('../scripts')\n",
    "\n",
    "import numpy as np\n",
    "import pandas as pd\n",
    "\n",
    "from yahoo_stock_data import YahooStockData\n",
    "from data_handler_lstm import DataHandler_LSTM\n",
    "from lstm import AlgoLSTM"
   ]
  },
  {
   "cell_type": "code",
   "execution_count": 2,
   "metadata": {},
   "outputs": [],
   "source": [
    "START_DATE = '2000-01-01'\n",
    "TARGET     = 'High'\n",
    "TIMEFRAME  = -1\n",
    "LOG_RETURN = True\n",
    "TEST_SIZE  = 0.2\n",
    "WINDOW_SIZE = 2\n",
    "NUM_EPOCHS = 10"
   ]
  },
  {
   "cell_type": "code",
   "execution_count": 3,
   "metadata": {},
   "outputs": [],
   "source": [
    "ticker = 'MSFT'\n",
    "si_from_yahoo = YahooStockData(ticker)\n",
    "si_data = si_from_yahoo.get_data(START_DATE)\n",
    "si_data.reset_index(inplace=True)\n",
    "# si_data.to_csv(ticker + '.csv', index=False)\n",
    "# si_data = pd.read_csv(ticker + '.csv')"
   ]
  },
  {
   "cell_type": "code",
   "execution_count": 4,
   "metadata": {},
   "outputs": [
    {
     "name": "stdout",
     "output_type": "stream",
     "text": [
      "# Training samples: 4440  # val samples: 555  # test samples: 555\n"
     ]
    },
    {
     "name": "stderr",
     "output_type": "stream",
     "text": [
      "2022-01-22 21:11:15.161445: I tensorflow/core/platform/cpu_feature_guard.cc:151] This TensorFlow binary is optimized with oneAPI Deep Neural Network Library (oneDNN) to use the following CPU instructions in performance-critical operations:  AVX2 FMA\n",
      "To enable them in other operations, rebuild TensorFlow with the appropriate compiler flags.\n",
      "2022-01-22 21:11:17.133740: I tensorflow/core/common_runtime/gpu/gpu_device.cc:1525] Created device /job:localhost/replica:0/task:0/device:GPU:0 with 816 MB memory:  -> device: 0, name: NVIDIA GeForce RTX 3070, pci bus id: 0000:01:00.0, compute capability: 8.6\n",
      "2022-01-22 21:11:17.134269: I tensorflow/core/common_runtime/gpu/gpu_device.cc:1525] Created device /job:localhost/replica:0/task:0/device:GPU:1 with 807 MB memory:  -> device: 1, name: NVIDIA GeForce RTX 3070, pci bus id: 0000:04:00.0, compute capability: 8.6\n"
     ]
    },
    {
     "name": "stdout",
     "output_type": "stream",
     "text": [
      "Epoch 1/10\n"
     ]
    },
    {
     "name": "stderr",
     "output_type": "stream",
     "text": [
      "2022-01-22 21:11:21.116206: I tensorflow/stream_executor/cuda/cuda_dnn.cc:366] Loaded cuDNN version 8302\n",
      "2022-01-22 21:11:21.246762: I tensorflow/stream_executor/cuda/cuda_blas.cc:1774] TensorFloat-32 will be used for the matrix multiplication. This will only be logged once.\n"
     ]
    },
    {
     "name": "stdout",
     "output_type": "stream",
     "text": [
      "4438/4438 [==============================] - 57s 12ms/step - loss: 2.6548e-04 - val_loss: 2.2787e-04\n",
      "Epoch 2/10\n",
      "4438/4438 [==============================] - 52s 12ms/step - loss: 2.5550e-04 - val_loss: 1.3214e-04\n",
      "Epoch 3/10\n",
      "4438/4438 [==============================] - 52s 12ms/step - loss: 2.5442e-04 - val_loss: 1.3023e-04\n",
      "Epoch 4/10\n",
      "4438/4438 [==============================] - 52s 12ms/step - loss: 2.5342e-04 - val_loss: 1.2852e-04\n",
      "Epoch 5/10\n",
      "4438/4438 [==============================] - 52s 12ms/step - loss: 2.5226e-04 - val_loss: 1.3392e-04\n",
      "Epoch 6/10\n",
      "4438/4438 [==============================] - 52s 12ms/step - loss: 2.5415e-04 - val_loss: 1.2877e-04\n",
      "Epoch 7/10\n",
      "4438/4438 [==============================] - 33s 8ms/step - loss: 2.5438e-04 - val_loss: 1.3151e-04\n",
      "Epoch 8/10\n",
      "4438/4438 [==============================] - 40s 9ms/step - loss: 2.5234e-04 - val_loss: 1.4905e-04\n",
      "Epoch 9/10\n",
      "4438/4438 [==============================] - 52s 12ms/step - loss: 2.5410e-04 - val_loss: 1.2945e-04\n",
      "Epoch 10/10\n",
      "4438/4438 [==============================] - 52s 12ms/step - loss: 2.5418e-04 - val_loss: 1.3104e-04\n"
     ]
    }
   ],
   "source": [
    "data_handler = DataHandler_LSTM(si_data, TARGET, TIMEFRAME, LOG_RETURN, TEST_SIZE, WINDOW_SIZE)\n",
    "algo_lstm = AlgoLSTM(data_handler, NUM_EPOCHS)"
   ]
  },
  {
   "cell_type": "code",
   "execution_count": 5,
   "metadata": {},
   "outputs": [
    {
     "name": "stderr",
     "output_type": "stream",
     "text": [
      "100%|███████████████████████████████████████| 4438/4438 [02:11<00:00, 33.85it/s]\n",
      "100%|█████████████████████████████████████████| 553/553 [00:16<00:00, 33.89it/s]\n",
      "100%|█████████████████████████████████████████| 553/553 [00:17<00:00, 32.17it/s]\n"
     ]
    }
   ],
   "source": [
    "df_concatenated = algo_lstm.get_forecasts()"
   ]
  },
  {
   "cell_type": "code",
   "execution_count": 6,
   "metadata": {},
   "outputs": [
    {
     "name": "stdout",
     "output_type": "stream",
     "text": [
      "4438 553 553\n",
      "(5544, 9)\n"
     ]
    }
   ],
   "source": [
    "df_forecast, accuracy = data_handler.process_forecasts(df_concatenated)"
   ]
  },
  {
   "cell_type": "code",
   "execution_count": 7,
   "metadata": {},
   "outputs": [
    {
     "data": {
      "text/plain": [
       "{'mse': {'train': 26.346440073891134,\n",
       "  'validation': 254.4273417533503,\n",
       "  'test': 1213.6157800225883},\n",
       " 'rmse': {'train': 5.13287834201154,\n",
       "  'validation': 15.950778719340015,\n",
       "  'test': 34.83698867615553},\n",
       " 'mae': {'train': 4.857347641875443,\n",
       "  'validation': 15.67168312004849,\n",
       "  'test': 33.89686010830567},\n",
       " 'mape': {'train': 14.513524836427544,\n",
       "  'validation': 14.40038215565546,\n",
       "  'test': 14.538796213976}}"
      ]
     },
     "execution_count": 7,
     "metadata": {},
     "output_type": "execute_result"
    }
   ],
   "source": [
    "accuracy"
   ]
  },
  {
   "cell_type": "code",
   "execution_count": 10,
   "metadata": {},
   "outputs": [
    {
     "data": {
      "text/plain": [
       "255.8655897248356"
      ]
     },
     "execution_count": 10,
     "metadata": {},
     "output_type": "execute_result"
    }
   ],
   "source": [
    "df_forecast.iloc[-1]['test_pred']"
   ]
  },
  {
   "cell_type": "code",
   "execution_count": 7,
   "metadata": {},
   "outputs": [
    {
     "data": {
      "text/plain": [
       "{'rmse': {'train': 6.931732827996648,\n",
       "  'validation': 21.681994690354703,\n",
       "  'test': 46.86916313817424},\n",
       " 'mape': {'train': 19.394539776163384,\n",
       "  'validation': 19.55234944707062,\n",
       "  'test': 19.35903402948529}}"
      ]
     },
     "execution_count": 7,
     "metadata": {},
     "output_type": "execute_result"
    }
   ],
   "source": [
    "accuracy"
   ]
  }
 ],
 "metadata": {
  "kernelspec": {
   "display_name": "Python 3 (ipykernel)",
   "language": "python",
   "name": "python3"
  },
  "language_info": {
   "codemirror_mode": {
    "name": "ipython",
    "version": 3
   },
   "file_extension": ".py",
   "mimetype": "text/x-python",
   "name": "python",
   "nbconvert_exporter": "python",
   "pygments_lexer": "ipython3",
   "version": "3.9.7"
  }
 },
 "nbformat": 4,
 "nbformat_minor": 2
}
