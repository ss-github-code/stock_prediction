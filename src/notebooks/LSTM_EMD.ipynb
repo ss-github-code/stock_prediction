{
 "cells": [
  {
   "cell_type": "code",
   "execution_count": 1,
   "id": "752b5fba",
   "metadata": {},
   "outputs": [],
   "source": [
    "import sys\n",
    "sys.path.append('../scripts')\n",
    "\n",
    "import numpy as np\n",
    "import pandas as pd\n",
    "\n",
    "from yahoo_stock_data import YahooStockData\n",
    "from data_handler_lstm import DataHandler_LSTM\n",
    "from lstm_emd import AlgoLSTM_EMD"
   ]
  },
  {
   "cell_type": "code",
   "execution_count": 2,
   "id": "55b42c7b",
   "metadata": {},
   "outputs": [],
   "source": [
    "START_DATE = '2000-01-01'\n",
    "TARGET     = 'High'\n",
    "TIMEFRAME  = -1\n",
    "LOG_RETURN = False\n",
    "TEST_SIZE  = 0.2\n",
    "WINDOW_SIZE = 2"
   ]
  },
  {
   "cell_type": "code",
   "execution_count": 3,
   "id": "47056db0",
   "metadata": {},
   "outputs": [],
   "source": [
    "ticker = 'MSFT'\n",
    "si_from_yahoo = YahooStockData(ticker)\n",
    "si_data = si_from_yahoo.get_data(START_DATE)\n",
    "si_data.reset_index(inplace=True)\n",
    "\n",
    "si_data = si_data.astype({'Volume': 'float64'}, copy=False) # required for EMD\n",
    "# si_data.to_csv('MSFT.csv', index=False)\n",
    "# si_data = pd.read_csv('MSFT.csv')"
   ]
  },
  {
   "cell_type": "code",
   "execution_count": 4,
   "id": "84faff1c",
   "metadata": {},
   "outputs": [
    {
     "data": {
      "text/html": [
       "<div>\n",
       "<style scoped>\n",
       "    .dataframe tbody tr th:only-of-type {\n",
       "        vertical-align: middle;\n",
       "    }\n",
       "\n",
       "    .dataframe tbody tr th {\n",
       "        vertical-align: top;\n",
       "    }\n",
       "\n",
       "    .dataframe thead th {\n",
       "        text-align: right;\n",
       "    }\n",
       "</style>\n",
       "<table border=\"1\" class=\"dataframe\">\n",
       "  <thead>\n",
       "    <tr style=\"text-align: right;\">\n",
       "      <th></th>\n",
       "      <th>Date</th>\n",
       "      <th>Open</th>\n",
       "      <th>High</th>\n",
       "      <th>Low</th>\n",
       "      <th>Close</th>\n",
       "      <th>Adj Close</th>\n",
       "      <th>Volume</th>\n",
       "    </tr>\n",
       "  </thead>\n",
       "  <tbody>\n",
       "    <tr>\n",
       "      <th>0</th>\n",
       "      <td>2000-01-03</td>\n",
       "      <td>58.687500</td>\n",
       "      <td>59.312500</td>\n",
       "      <td>56.000000</td>\n",
       "      <td>58.281250</td>\n",
       "      <td>36.794209</td>\n",
       "      <td>53228400.0</td>\n",
       "    </tr>\n",
       "    <tr>\n",
       "      <th>1</th>\n",
       "      <td>2000-01-04</td>\n",
       "      <td>56.781250</td>\n",
       "      <td>58.562500</td>\n",
       "      <td>56.125000</td>\n",
       "      <td>56.312500</td>\n",
       "      <td>35.551292</td>\n",
       "      <td>54119000.0</td>\n",
       "    </tr>\n",
       "    <tr>\n",
       "      <th>2</th>\n",
       "      <td>2000-01-05</td>\n",
       "      <td>55.562500</td>\n",
       "      <td>58.187500</td>\n",
       "      <td>54.687500</td>\n",
       "      <td>56.906250</td>\n",
       "      <td>35.926136</td>\n",
       "      <td>64059600.0</td>\n",
       "    </tr>\n",
       "    <tr>\n",
       "      <th>3</th>\n",
       "      <td>2000-01-06</td>\n",
       "      <td>56.093750</td>\n",
       "      <td>56.937500</td>\n",
       "      <td>54.187500</td>\n",
       "      <td>55.000000</td>\n",
       "      <td>34.722687</td>\n",
       "      <td>54976600.0</td>\n",
       "    </tr>\n",
       "    <tr>\n",
       "      <th>4</th>\n",
       "      <td>2000-01-07</td>\n",
       "      <td>54.312500</td>\n",
       "      <td>56.125000</td>\n",
       "      <td>53.656250</td>\n",
       "      <td>55.718750</td>\n",
       "      <td>35.176464</td>\n",
       "      <td>62013600.0</td>\n",
       "    </tr>\n",
       "    <tr>\n",
       "      <th>...</th>\n",
       "      <td>...</td>\n",
       "      <td>...</td>\n",
       "      <td>...</td>\n",
       "      <td>...</td>\n",
       "      <td>...</td>\n",
       "      <td>...</td>\n",
       "      <td>...</td>\n",
       "    </tr>\n",
       "    <tr>\n",
       "      <th>5545</th>\n",
       "      <td>2022-01-14</td>\n",
       "      <td>304.250000</td>\n",
       "      <td>310.820007</td>\n",
       "      <td>303.750000</td>\n",
       "      <td>310.200012</td>\n",
       "      <td>310.200012</td>\n",
       "      <td>39823500.0</td>\n",
       "    </tr>\n",
       "    <tr>\n",
       "      <th>5546</th>\n",
       "      <td>2022-01-18</td>\n",
       "      <td>304.070007</td>\n",
       "      <td>309.799988</td>\n",
       "      <td>301.739990</td>\n",
       "      <td>302.649994</td>\n",
       "      <td>302.649994</td>\n",
       "      <td>42333200.0</td>\n",
       "    </tr>\n",
       "    <tr>\n",
       "      <th>5547</th>\n",
       "      <td>2022-01-19</td>\n",
       "      <td>306.290009</td>\n",
       "      <td>313.910004</td>\n",
       "      <td>302.700012</td>\n",
       "      <td>303.329987</td>\n",
       "      <td>303.329987</td>\n",
       "      <td>45933900.0</td>\n",
       "    </tr>\n",
       "    <tr>\n",
       "      <th>5548</th>\n",
       "      <td>2022-01-20</td>\n",
       "      <td>309.070007</td>\n",
       "      <td>311.649994</td>\n",
       "      <td>301.140015</td>\n",
       "      <td>301.600006</td>\n",
       "      <td>301.600006</td>\n",
       "      <td>35380700.0</td>\n",
       "    </tr>\n",
       "    <tr>\n",
       "      <th>5549</th>\n",
       "      <td>2022-01-21</td>\n",
       "      <td>302.690002</td>\n",
       "      <td>304.109985</td>\n",
       "      <td>295.609985</td>\n",
       "      <td>296.029999</td>\n",
       "      <td>296.029999</td>\n",
       "      <td>57118300.0</td>\n",
       "    </tr>\n",
       "  </tbody>\n",
       "</table>\n",
       "<p>5550 rows × 7 columns</p>\n",
       "</div>"
      ],
      "text/plain": [
       "            Date        Open        High         Low       Close   Adj Close  \\\n",
       "0     2000-01-03   58.687500   59.312500   56.000000   58.281250   36.794209   \n",
       "1     2000-01-04   56.781250   58.562500   56.125000   56.312500   35.551292   \n",
       "2     2000-01-05   55.562500   58.187500   54.687500   56.906250   35.926136   \n",
       "3     2000-01-06   56.093750   56.937500   54.187500   55.000000   34.722687   \n",
       "4     2000-01-07   54.312500   56.125000   53.656250   55.718750   35.176464   \n",
       "...          ...         ...         ...         ...         ...         ...   \n",
       "5545  2022-01-14  304.250000  310.820007  303.750000  310.200012  310.200012   \n",
       "5546  2022-01-18  304.070007  309.799988  301.739990  302.649994  302.649994   \n",
       "5547  2022-01-19  306.290009  313.910004  302.700012  303.329987  303.329987   \n",
       "5548  2022-01-20  309.070007  311.649994  301.140015  301.600006  301.600006   \n",
       "5549  2022-01-21  302.690002  304.109985  295.609985  296.029999  296.029999   \n",
       "\n",
       "          Volume  \n",
       "0     53228400.0  \n",
       "1     54119000.0  \n",
       "2     64059600.0  \n",
       "3     54976600.0  \n",
       "4     62013600.0  \n",
       "...          ...  \n",
       "5545  39823500.0  \n",
       "5546  42333200.0  \n",
       "5547  45933900.0  \n",
       "5548  35380700.0  \n",
       "5549  57118300.0  \n",
       "\n",
       "[5550 rows x 7 columns]"
      ]
     },
     "execution_count": 4,
     "metadata": {},
     "output_type": "execute_result"
    }
   ],
   "source": [
    "si_data"
   ]
  },
  {
   "cell_type": "code",
   "execution_count": 7,
   "id": "e91e2070",
   "metadata": {},
   "outputs": [
    {
     "name": "stdout",
     "output_type": "stream",
     "text": [
      "Predicting: [IMF1]\n"
     ]
    },
    {
     "name": "stderr",
     "output_type": "stream",
     "text": [
      "100%|███████████████████████████████████████| 4438/4438 [02:16<00:00, 32.49it/s]\n",
      "100%|█████████████████████████████████████████| 553/553 [00:16<00:00, 32.60it/s]\n",
      "100%|█████████████████████████████████████████| 553/553 [00:17<00:00, 31.50it/s]\n"
     ]
    },
    {
     "name": "stdout",
     "output_type": "stream",
     "text": [
      "Predicting: [IMF2]\n"
     ]
    },
    {
     "name": "stderr",
     "output_type": "stream",
     "text": [
      "100%|███████████████████████████████████████| 4438/4438 [02:17<00:00, 32.24it/s]\n",
      "100%|█████████████████████████████████████████| 553/553 [00:17<00:00, 32.28it/s]\n",
      "100%|█████████████████████████████████████████| 553/553 [00:17<00:00, 32.31it/s]\n"
     ]
    },
    {
     "name": "stdout",
     "output_type": "stream",
     "text": [
      "Predicting: [IMF3]\n"
     ]
    },
    {
     "name": "stderr",
     "output_type": "stream",
     "text": [
      "100%|████████████████████████████████████| 4437/4437 [00:00<00:00, 11378.28it/s]\n",
      "100%|███████████████████████████████████████| 552/552 [00:00<00:00, 9548.39it/s]\n",
      "100%|███████████████████████████████████████| 552/552 [00:00<00:00, 9963.40it/s]\n"
     ]
    },
    {
     "name": "stdout",
     "output_type": "stream",
     "text": [
      "Predicting: [IMF4]\n"
     ]
    },
    {
     "name": "stderr",
     "output_type": "stream",
     "text": [
      "100%|████████████████████████████████████| 4437/4437 [00:00<00:00, 11426.43it/s]\n",
      "100%|██████████████████████████████████████| 552/552 [00:00<00:00, 10158.33it/s]\n",
      "100%|██████████████████████████████████████| 552/552 [00:00<00:00, 10654.75it/s]\n"
     ]
    },
    {
     "name": "stdout",
     "output_type": "stream",
     "text": [
      "Predicting: [IMF5]\n"
     ]
    },
    {
     "name": "stderr",
     "output_type": "stream",
     "text": [
      "100%|████████████████████████████████████| 4436/4436 [00:00<00:00, 11342.05it/s]\n",
      "100%|██████████████████████████████████████| 551/551 [00:00<00:00, 10945.74it/s]\n",
      "100%|██████████████████████████████████████| 551/551 [00:00<00:00, 11502.17it/s]\n"
     ]
    },
    {
     "name": "stdout",
     "output_type": "stream",
     "text": [
      "Predicting: [IMF6]\n"
     ]
    },
    {
     "name": "stderr",
     "output_type": "stream",
     "text": [
      "100%|████████████████████████████████████| 4436/4436 [00:00<00:00, 12064.95it/s]\n",
      "100%|██████████████████████████████████████| 551/551 [00:00<00:00, 10907.00it/s]\n",
      "100%|██████████████████████████████████████| 551/551 [00:00<00:00, 11366.40it/s]\n"
     ]
    },
    {
     "name": "stdout",
     "output_type": "stream",
     "text": [
      "Predicting: [Rsd]\n"
     ]
    },
    {
     "name": "stderr",
     "output_type": "stream",
     "text": [
      "100%|████████████████████████████████████| 4434/4434 [00:00<00:00, 12086.76it/s]\n",
      "100%|██████████████████████████████████████| 549/549 [00:00<00:00, 11261.34it/s]\n",
      "100%|██████████████████████████████████████| 549/549 [00:00<00:00, 11338.80it/s]\n"
     ]
    },
    {
     "name": "stdout",
     "output_type": "stream",
     "text": [
      "IMF1 (5544, 6)\n",
      "IMF2 (5544, 6)\n",
      "IMF3 (5541, 6)\n",
      "IMF4 (5541, 6)\n",
      "IMF5 (5538, 6)\n",
      "IMF6 (5538, 6)\n",
      "Rsd (5532, 6)\n",
      "r tr IMF1 4434\n",
      "tr IMF1 4434\n",
      "r val 549\n",
      "val 549\n",
      "r tst 549\n",
      "tst 549\n",
      "tst IMF2 549 549\n",
      "tst IMF3 549 549\n",
      "tst IMF4 549 549\n",
      "tst IMF5 549 549\n",
      "tst IMF6 549 549\n",
      "tst Rsd 549 549\n",
      "{'mse': {'train': 0.24147352353223733, 'validation': 1.451833335285083, 'test': 20.490765852850025}, 'rmse': {'train': 0.49139955589340667, 'validation': 1.2049204684480561, 'test': 4.526672713246455}, 'mae': {'train': 0.3108762733582088, 'validation': 0.8651752510066286, 'test': 2.897540051992593}, 'mape': {'train': 0.9576697406770032, 'validation': 0.793021101207649, 'test': 1.2193896862073652}}\n",
      "276.07821973422773\n"
     ]
    }
   ],
   "source": [
    "data_handler = DataHandler_LSTM(si_data, TARGET, TIMEFRAME, LOG_RETURN, TEST_SIZE, WINDOW_SIZE, use_EMD = True)\n",
    "algo_lstm_emd = AlgoLSTM_EMD(data_handler)\n",
    "df_recompiled = algo_lstm_emd.get_forecasts()\n",
    "\n",
    "accuracy = data_handler.calculate_results(df_recompiled, plot_title=f'LSTM (EMD) {ticker}')"
   ]
  },
  {
   "cell_type": "code",
   "execution_count": 10,
   "id": "75bca05c",
   "metadata": {},
   "outputs": [
    {
     "name": "stdout",
     "output_type": "stream",
     "text": [
      "                  mse      rmse       mae      mape\n",
      "train        0.241474  0.491400  0.310876  0.957670\n",
      "validation   1.451833  1.204920  0.865175  0.793021\n",
      "test        20.490766  4.526673  2.897540  1.219390\n",
      "\n",
      "Predicted value:\n",
      "276.07821973422773\n"
     ]
    }
   ],
   "source": [
    "print(pd.DataFrame(accuracy))\n",
    "print()\n",
    "print('Predicted value:')\n",
    "print(df_recompiled.iloc[-1]['test_pred'])"
   ]
  }
 ],
 "metadata": {
  "kernelspec": {
   "display_name": "Python 3 (ipykernel)",
   "language": "python",
   "name": "python3"
  },
  "language_info": {
   "codemirror_mode": {
    "name": "ipython",
    "version": 3
   },
   "file_extension": ".py",
   "mimetype": "text/x-python",
   "name": "python",
   "nbconvert_exporter": "python",
   "pygments_lexer": "ipython3",
   "version": "3.9.7"
  }
 },
 "nbformat": 4,
 "nbformat_minor": 5
}
