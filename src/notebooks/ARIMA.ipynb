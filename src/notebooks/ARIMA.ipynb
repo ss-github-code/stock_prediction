{
 "cells": [
  {
   "cell_type": "code",
   "execution_count": 1,
   "id": "38b3a008",
   "metadata": {},
   "outputs": [],
   "source": [
    "import sys\n",
    "sys.path.append('../scripts')\n",
    "\n",
    "import numpy as np\n",
    "import pandas as pd\n",
    "\n",
    "from yahoo_stock_data import YahooStockData\n",
    "from data_handler import DataHandler\n",
    "from arima import AlgoARIMA"
   ]
  },
  {
   "cell_type": "code",
   "execution_count": 2,
   "id": "740f4fb1",
   "metadata": {},
   "outputs": [],
   "source": [
    "START_DATE = '2000-01-01'\n",
    "TARGET     = 'High'\n",
    "TIMEFRAME  = -1\n",
    "LOG_RETURN = True\n",
    "TEST_SIZE  = 0.2\n",
    "\n",
    "ticker_list = ['MSFT']\n",
    "\n",
    "# si_from_yahoo = YahooStockData(ticker_list[0])\n",
    "# si_data = si_from_yahoo.get_data(START_DATE)\n",
    "# si_data.reset_index(inplace=True)\n",
    "# si_data.to_csv('msft.csv', index=False)\n",
    "si_data = pd.read_csv('msft.csv')"
   ]
  },
  {
   "cell_type": "code",
   "execution_count": 3,
   "id": "2982cb51",
   "metadata": {},
   "outputs": [
    {
     "name": "stdout",
     "output_type": "stream",
     "text": [
      "Performing stepwise search to minimize aic\n",
      " ARIMA(0,1,0)(0,0,0)[0] intercept   : AIC=-21712.637, Time=0.13 sec\n",
      " ARIMA(1,1,0)(0,0,0)[0] intercept   : AIC=-22843.209, Time=0.15 sec\n",
      " ARIMA(0,1,1)(0,0,0)[0] intercept   : AIC=-24561.569, Time=0.68 sec\n",
      " ARIMA(0,1,0)(0,0,0)[0]             : AIC=-21714.637, Time=0.05 sec\n",
      " ARIMA(1,1,1)(0,0,0)[0] intercept   : AIC=-24563.589, Time=1.13 sec\n",
      " ARIMA(2,1,1)(0,0,0)[0] intercept   : AIC=-24562.494, Time=1.86 sec\n",
      " ARIMA(1,1,2)(0,0,0)[0] intercept   : AIC=-24541.256, Time=0.97 sec\n",
      " ARIMA(0,1,2)(0,0,0)[0] intercept   : AIC=-24392.172, Time=0.49 sec\n",
      " ARIMA(2,1,0)(0,0,0)[0] intercept   : AIC=-23339.887, Time=0.39 sec\n",
      " ARIMA(2,1,2)(0,0,0)[0] intercept   : AIC=-24532.162, Time=1.97 sec\n",
      " ARIMA(1,1,1)(0,0,0)[0]             : AIC=-24566.679, Time=0.24 sec\n",
      " ARIMA(0,1,1)(0,0,0)[0]             : AIC=-24564.298, Time=0.14 sec\n",
      " ARIMA(1,1,0)(0,0,0)[0]             : AIC=-22845.209, Time=0.08 sec\n",
      " ARIMA(2,1,1)(0,0,0)[0]             : AIC=-24566.127, Time=0.48 sec\n",
      " ARIMA(1,1,2)(0,0,0)[0]             : AIC=-24564.607, Time=0.33 sec\n",
      " ARIMA(0,1,2)(0,0,0)[0]             : AIC=-24566.838, Time=0.32 sec\n",
      " ARIMA(0,1,3)(0,0,0)[0]             : AIC=-24566.082, Time=0.58 sec\n",
      " ARIMA(1,1,3)(0,0,0)[0]             : AIC=-24563.894, Time=0.62 sec\n",
      "\n",
      "Best model:  ARIMA(0,1,2)(0,0,0)[0]          \n",
      "Total fit time: 10.622 seconds\n",
      "RUNNING THE L-BFGS-B CODE\n",
      "\n",
      "           * * *\n",
      "\n",
      "Machine precision = 2.220D-16\n",
      " N =            3     M =           10\n",
      "\n",
      "At X0         0 variables are exactly at the bounds\n",
      "\n",
      "At iterate    0    f= -2.74549D+00    |proj g|=  4.79847D+00\n",
      "\n",
      "At iterate    5    f= -2.74706D+00    |proj g|=  2.12310D-01\n",
      "\n",
      "At iterate   10    f= -2.74775D+00    |proj g|=  2.66061D+00\n",
      "\n",
      "At iterate   15    f= -2.74903D+00    |proj g|=  5.61312D-02\n"
     ]
    },
    {
     "name": "stderr",
     "output_type": "stream",
     "text": [
      "/home/shiv/anaconda3/envs/ts3_9/lib/python3.9/site-packages/statsmodels/tsa/base/tsa_model.py:593: ValueWarning: A date index has been provided, but it has no associated frequency information and so will be ignored when e.g. forecasting.\n",
      "  warnings.warn('A date index has been provided, but it has no'\n",
      "/home/shiv/anaconda3/envs/ts3_9/lib/python3.9/site-packages/statsmodels/tsa/base/tsa_model.py:593: ValueWarning: A date index has been provided, but it has no associated frequency information and so will be ignored when e.g. forecasting.\n",
      "  warnings.warn('A date index has been provided, but it has no'\n",
      " This problem is unconstrained.\n"
     ]
    },
    {
     "name": "stdout",
     "output_type": "stream",
     "text": [
      "\n",
      "At iterate   20    f= -2.75059D+00    |proj g|=  1.07408D+00\n",
      "\n",
      "At iterate   25    f= -2.76788D+00    |proj g|=  3.65580D-01\n",
      "\n",
      "At iterate   30    f= -2.76846D+00    |proj g|=  2.56349D-03\n",
      "\n",
      "           * * *\n",
      "\n",
      "Tit   = total number of iterations\n",
      "Tnf   = total number of function evaluations\n",
      "Tnint = total number of segments explored during Cauchy searches\n",
      "Skip  = number of BFGS updates skipped\n",
      "Nact  = number of active bounds at final generalized Cauchy point\n",
      "Projg = norm of the final projected gradient\n",
      "F     = final function value\n",
      "\n",
      "           * * *\n",
      "\n",
      "   N    Tit     Tnf  Tnint  Skip  Nact     Projg        F\n",
      "    3     31     41      1     0     0   1.905D-03  -2.768D+00\n",
      "  F =  -2.7684585039510869     \n",
      "\n",
      "CONVERGENCE: REL_REDUCTION_OF_F_<=_FACTR*EPSMCH             \n"
     ]
    },
    {
     "name": "stderr",
     "output_type": "stream",
     "text": [
      "/home/shiv/anaconda3/envs/ts3_9/lib/python3.9/site-packages/statsmodels/tsa/base/tsa_model.py:390: ValueWarning: No supported index is available. Prediction results will be given with an integer index beginning at `start`.\n",
      "  warnings.warn('No supported index is available.'\n"
     ]
    }
   ],
   "source": [
    "data_handler = DataHandler(si_data, TARGET, TIMEFRAME, LOG_RETURN, TEST_SIZE)\n",
    "algo_arima = AlgoARIMA(data_handler.y_train)\n",
    "forecasts = algo_arima.get_forecasts(len(data_handler.y_val) + len(data_handler.y_test))"
   ]
  },
  {
   "cell_type": "code",
   "execution_count": 4,
   "id": "32e9b4f8",
   "metadata": {},
   "outputs": [
    {
     "name": "stdout",
     "output_type": "stream",
     "text": [
      "{'mse': 10.662418921765623, 'mae': 2.216303946101692, 'rmse': 3.2653359584835404, 'mape': 0.010315065350886844}\n",
      "305.31654153797564\n"
     ]
    }
   ],
   "source": [
    "forecast, val_results, test_results = data_handler.process_forecasts(forecasts)\n",
    "print(test_results)\n",
    "print(forecast[-1])"
   ]
  },
  {
   "cell_type": "code",
   "execution_count": null,
   "id": "1590fc67",
   "metadata": {},
   "outputs": [],
   "source": []
  }
 ],
 "metadata": {
  "kernelspec": {
   "display_name": "Python 3 (ipykernel)",
   "language": "python",
   "name": "python3"
  },
  "language_info": {
   "codemirror_mode": {
    "name": "ipython",
    "version": 3
   },
   "file_extension": ".py",
   "mimetype": "text/x-python",
   "name": "python",
   "nbconvert_exporter": "python",
   "pygments_lexer": "ipython3",
   "version": "3.9.7"
  }
 },
 "nbformat": 4,
 "nbformat_minor": 5
}
